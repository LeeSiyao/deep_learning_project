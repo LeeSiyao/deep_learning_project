{
 "cells": [
  {
   "cell_type": "code",
   "execution_count": null,
   "id": "7f98b62f",
   "metadata": {},
   "outputs": [],
   "source": [
    "基于fashion_mnist数据集，建立mlp模型，实现服饰图片十分类task：：\n",
    "\n",
    "1、实现图像数据加载、可视化\n",
    "2、进行数据预处理：维度转化，归一化、输出结果格式转化\n",
    "3、建立mlp模型，进行模型训练与预测，计算模型在训练、测试数据集的准确率\n",
    "4、选取一个测试样本，预测其类别\n",
    "5、选取测试集中9个样本，分别预测其类别\n",
    "\n",
    "模型结构：两层隐藏层（激活函数：relu），分别有392、196个神经元；输出层10类，激活函数softmax"
   ]
  },
  {
   "cell_type": "code",
   "execution_count": 2,
   "id": "941abadd",
   "metadata": {},
   "outputs": [
    {
     "name": "stdout",
     "output_type": "stream",
     "text": [
      "Downloading data from http://fashion-mnist.s3-website.eu-central-1.amazonaws.com/train-labels-idx1-ubyte.gz\n",
      "32768/29515 [=================================] - 0s 8us/step\n",
      "Downloading data from http://fashion-mnist.s3-website.eu-central-1.amazonaws.com/train-images-idx3-ubyte.gz\n",
      "26427392/26421880 [==============================] - 303s 11us/step\n",
      "Downloading data from http://fashion-mnist.s3-website.eu-central-1.amazonaws.com/t10k-labels-idx1-ubyte.gz\n",
      "8192/5148 [===============================================] - 0s 0us/step\n",
      "Downloading data from http://fashion-mnist.s3-website.eu-central-1.amazonaws.com/t10k-images-idx3-ubyte.gz\n",
      "4423680/4422102 [==============================] - 22s 5us/step\n",
      "<class 'numpy.ndarray'> (60000, 28, 28)\n"
     ]
    }
   ],
   "source": [
    "# 数据加载\n",
    "from keras.datasets import fashion_mnist\n",
    "import numpy as np\n",
    "(X_train,y_train),(X_test,y_test) = fashion_mnist.load_data()\n",
    "print(type(X_train),X_train.shape)"
   ]
  },
  {
   "cell_type": "code",
   "execution_count": 10,
   "id": "1dd1a85b",
   "metadata": {},
   "outputs": [
    {
     "data": {
      "text/plain": [
       "Text(0.5, 1.0, 'raw img1')"
      ]
     },
     "execution_count": 10,
     "metadata": {},
     "output_type": "execute_result"
    },
    {
     "data": {
      "image/png": "[encoded data removed]",
      "text/plain": [
       "<Figure size 216x216 with 1 Axes>"
      ]
     },
     "metadata": {
      "needs_background": "light"
     },
     "output_type": "display_data"
    }
   ],
   "source": [
    "# 样本可视化\n",
    "img1 = X_train[0]\n",
    "# 引入画图包\n",
    "from matplotlib import pyplot as plt\n",
    "fig1 = plt.figure(figsize=(3,3))\n",
    "plt.imshow(img1)\n",
    "plt.title('raw img1')"
   ]
  },
  {
   "cell_type": "code",
   "execution_count": 13,
   "id": "5d3566be",
   "metadata": {},
   "outputs": [
    {
     "name": "stdout",
     "output_type": "stream",
     "text": [
      "784\n",
      "(60000, 784) (60000, 28, 28)\n"
     ]
    }
   ],
   "source": [
    "# 数据预处理 将三维数据转为二维\n",
    "# 60000个图片 每个图28*28像素点 \n",
    "feature_size = img1.shape[0]* img1.shape[1]\n",
    "print(feature_size)\n",
    "X_train_format = X_train.reshape(X_train.shape[0],feature_size)\n",
    "X_test_format = X_test.reshape(X_test.shape[0],feature_size)\n",
    "print(X_train_format.shape,X_train.shape)"
   ]
  },
  {
   "cell_type": "code",
   "execution_count": 15,
   "id": "f1aaf6b9",
   "metadata": {},
   "outputs": [
    {
     "name": "stdout",
     "output_type": "stream",
     "text": [
      "[0.         0.         0.         0.         0.         0.\n",
      " 0.         0.         0.         0.         0.         0.\n",
      " 0.         0.         0.         0.         0.         0.\n",
      " 0.         0.         0.         0.         0.         0.\n",
      " 0.         0.         0.         0.         0.         0.\n",
      " 0.         0.         0.         0.         0.         0.\n",
      " 0.         0.         0.         0.         0.         0.\n",
      " 0.         0.         0.         0.         0.         0.\n",
      " 0.         0.         0.         0.         0.         0.\n",
      " 0.         0.         0.         0.         0.         0.\n",
      " 0.         0.         0.         0.         0.         0.\n",
      " 0.         0.         0.         0.         0.         0.\n",
      " 0.         0.         0.         0.         0.         0.\n",
      " 0.         0.         0.         0.         0.         0.\n",
      " 0.         0.         0.         0.         0.         0.\n",
      " 0.         0.         0.         0.         0.         0.\n",
      " 0.00444444 0.         0.         0.05777778 0.32444444 0.\n",
      " 0.         0.00444444 0.01777778 0.         0.         0.\n",
      " 0.         0.00444444 0.00444444 0.         0.         0.\n",
      " 0.         0.         0.         0.         0.         0.\n",
      " 0.         0.         0.         0.         0.01333333 0.\n",
      " 0.16       0.60444444 0.56444444 0.27555556 0.24       0.\n",
      " 0.         0.         0.00444444 0.01333333 0.01777778 0.\n",
      " 0.         0.01333333 0.         0.         0.         0.\n",
      " 0.         0.         0.         0.         0.         0.\n",
      " 0.         0.         0.02666667 0.         0.45333333 0.90666667\n",
      " 0.78222222 0.59555556 0.64       0.54666667 0.10222222 0.\n",
      " 0.         0.         0.         0.05333333 0.04444444 0.\n",
      " 0.         0.         0.         0.         0.         0.\n",
      " 0.         0.         0.         0.         0.         0.\n",
      " 0.         0.         0.68888889 1.04888889 0.92       0.79111111\n",
      " 0.47555556 0.69333333 0.71555556 0.48444444 0.28444444 0.10222222\n",
      " 0.34222222 0.57777778 0.32       0.06666667 0.         0.\n",
      " 0.         0.         0.         0.         0.         0.\n",
      " 0.         0.         0.         0.00444444 0.         0.30666667\n",
      " 0.92       0.99111111 0.96888889 0.96       0.96       0.72444444\n",
      " 0.56444444 0.53777778 0.54222222 0.64888889 0.62666667 0.39111111\n",
      " 0.76444444 0.29333333 0.         0.         0.         0.\n",
      " 0.         0.         0.         0.         0.         0.00444444\n",
      " 0.00444444 0.00444444 0.         0.88888889 1.03111111 1.03111111\n",
      " 1.03555556 1.01777778 0.99111111 0.99111111 0.95555556 0.94666667\n",
      " 0.72888889 0.56444444 0.54666667 0.87111111 1.01777778 0.\n",
      " 0.         0.         0.         0.         0.         0.\n",
      " 0.         0.         0.         0.         0.         0.\n",
      " 0.         0.81333333 1.         0.96       0.99111111 1.01333333\n",
      " 1.04444444 1.00888889 0.99555556 0.98666667 0.99555556 0.98222222\n",
      " 0.99111111 1.08888889 0.76888889 0.         0.         0.\n",
      " 0.         0.         0.         0.         0.         0.\n",
      " 0.         0.         0.         0.         0.         0.85777778\n",
      " 1.01333333 0.96888889 0.94666667 0.88       0.8        0.94222222\n",
      " 0.93333333 0.93777778 0.94666667 0.99111111 0.97777778 1.08\n",
      " 0.89777778 0.         0.         0.         0.         0.\n",
      " 0.         0.         0.         0.         0.         0.00444444\n",
      " 0.01333333 0.         0.05333333 0.97333333 0.97777778 0.94222222\n",
      " 0.96888889 0.85333333 0.75111111 1.00888889 0.92444444 0.96888889\n",
      " 0.99555556 0.94222222 1.00444444 0.87555556 0.92888889 0.23111111\n",
      " 0.         0.         0.         0.         0.         0.\n",
      " 0.         0.         0.         0.         0.02666667 0.\n",
      " 0.44       1.08444444 0.98666667 0.97777778 0.96888889 0.90222222\n",
      " 0.88       0.98222222 0.95555556 0.94666667 0.98666667 0.97777778\n",
      " 1.08888889 0.52888889 0.74222222 0.24888889 0.         0.\n",
      " 0.         0.         0.         0.         0.         0.\n",
      " 0.         0.01777778 0.         0.         0.24444444 1.04888889\n",
      " 1.01333333 1.02222222 1.01333333 1.06666667 1.03111111 0.94666667\n",
      " 0.96888889 0.99111111 1.04       0.96444444 0.96444444 0.92888889\n",
      " 0.40888889 0.         0.         0.         0.00444444 0.01777778\n",
      " 0.02666667 0.03111111 0.00888889 0.         0.         0.\n",
      " 0.         0.         1.05333333 1.00444444 0.96444444 0.99111111\n",
      " 0.98666667 0.97333333 0.98666667 0.98222222 0.96       0.99111111\n",
      " 1.01777778 0.95555556 0.96888889 1.13333333 0.34222222 0.\n",
      " 0.         0.01333333 0.         0.         0.         0.\n",
      " 0.         0.         0.         0.27555556 0.64444444 0.90666667\n",
      " 1.01333333 0.92       0.94666667 0.98222222 0.96888889 0.92444444\n",
      " 0.93777778 0.96888889 0.99555556 0.99111111 0.97333333 0.95555556\n",
      " 0.99555556 1.08444444 0.70666667 0.         0.         0.\n",
      " 0.         0.         0.08       0.19555556 0.36444444 0.47555556\n",
      " 0.84       1.01333333 0.97777778 0.98666667 0.96444444 1.00444444\n",
      " 0.88888889 0.91111111 0.93777778 1.02222222 0.99555556 1.04\n",
      " 0.78222222 0.83555556 1.11111111 1.10222222 1.03555556 1.05777778\n",
      " 0.95555556 0.         0.         0.25333333 0.83111111 0.92444444\n",
      " 0.99555556 0.98222222 0.99555556 0.92444444 0.90666667 0.95111111\n",
      " 0.92444444 0.92888889 0.88888889 0.70666667 1.08888889 0.85777778\n",
      " 0.91555556 0.99111111 1.13333333 1.13333333 0.98222222 1.04\n",
      " 0.98222222 0.93777778 0.97777778 1.03111111 1.09333333 0.\n",
      " 0.01333333 0.89777778 1.01333333 0.99555556 0.98222222 0.93777778\n",
      " 0.93777778 0.95111111 0.91111111 0.91111111 0.91111111 0.97777778\n",
      " 1.06666667 0.35555556 0.66666667 1.13333333 1.01777778 0.98222222\n",
      " 0.83555556 0.68444444 0.84888889 0.93333333 0.90666667 0.92888889\n",
      " 0.98666667 1.01333333 1.         0.         0.43555556 1.03555556\n",
      " 0.88       0.93333333 0.98666667 1.01777778 1.01777778 1.04\n",
      " 1.10666667 0.97777778 0.86222222 0.95555556 0.96444444 1.07111111\n",
      " 0.28888889 0.32444444 0.47111111 0.52       0.74666667 0.97333333\n",
      " 0.98222222 0.95555556 0.96444444 0.99111111 0.99111111 0.99555556\n",
      " 1.01777778 0.12888889 0.33333333 0.90666667 0.94222222 0.90666667\n",
      " 0.85777778 0.91111111 0.93777778 1.         0.96       0.82222222\n",
      " 0.87555556 0.91555556 0.88       0.94666667 1.06666667 0.86666667\n",
      " 1.00888889 1.08888889 1.06222222 0.99111111 0.96888889 0.94222222\n",
      " 0.92888889 0.98666667 0.97777778 0.98222222 1.02222222 0.29777778\n",
      " 0.21333333 0.90222222 0.81333333 0.86222222 0.94666667 0.87555556\n",
      " 0.82222222 0.84444444 0.86222222 0.85333333 0.89777778 0.95111111\n",
      " 0.97333333 0.98222222 0.97777778 1.04888889 1.         0.96\n",
      " 0.88444444 0.91555556 0.82666667 0.80444444 0.78666667 0.76444444\n",
      " 0.80444444 0.91111111 0.91555556 0.51111111 0.         0.54222222\n",
      " 0.97333333 0.85777778 0.79555556 0.76       0.81333333 0.87111111\n",
      " 0.90666667 0.93333333 0.94666667 0.92       0.93777778 0.93333333\n",
      " 0.88888889 0.87111111 0.86222222 0.84888889 0.86666667 0.84888889\n",
      " 0.88       0.85333333 0.78222222 0.69333333 0.74222222 0.78666667\n",
      " 0.93333333 0.40888889 0.         0.         0.32888889 0.84\n",
      " 0.94222222 0.84888889 0.77777778 0.76444444 0.77777778 0.80444444\n",
      " 0.82222222 0.83555556 0.84       0.83555556 0.85777778 0.88\n",
      " 0.90666667 0.92888889 0.93333333 0.93333333 0.93777778 0.83555556\n",
      " 0.83555556 0.86222222 0.85333333 0.96       0.75555556 0.\n",
      " 0.00888889 0.         0.         0.         0.29333333 0.88888889\n",
      " 0.98666667 1.05333333 1.06222222 1.07555556 1.09333333 1.08\n",
      " 1.08444444 0.98222222 0.97777778 0.85777778 0.84888889 0.79555556\n",
      " 0.80888889 0.80888889 0.80444444 0.78222222 0.73777778 0.74666667\n",
      " 0.44       0.25777778 0.         0.         0.         0.\n",
      " 0.         0.         0.         0.         0.         0.17777778\n",
      " 0.27111111 0.19555556 0.32       0.18222222 0.15555556 0.\n",
      " 0.         0.         0.         0.         0.         0.\n",
      " 0.         0.         0.         0.         0.         0.\n",
      " 0.         0.         0.         0.         0.         0.\n",
      " 0.         0.         0.         0.         0.         0.\n",
      " 0.         0.         0.         0.         0.         0.\n",
      " 0.         0.         0.         0.         0.         0.\n",
      " 0.         0.         0.         0.         0.         0.\n",
      " 0.         0.         0.         0.         0.         0.\n",
      " 0.         0.         0.         0.         0.         0.\n",
      " 0.         0.         0.         0.         0.         0.\n",
      " 0.         0.         0.         0.         0.         0.\n",
      " 0.         0.         0.         0.        ]\n"
     ]
    }
   ],
   "source": [
    "# 数据归一化\n",
    "X_train_normal =  X_train_format/225\n",
    "X_test_normal =  X_test_format/225\n",
    "print(X_train_normal[0])"
   ]
  },
  {
   "cell_type": "code",
   "execution_count": 16,
   "id": "bc32978c",
   "metadata": {},
   "outputs": [
    {
     "name": "stdout",
     "output_type": "stream",
     "text": [
      "9\n",
      "[0. 0. 0. 0. 0. 0. 0. 0. 0. 1.]\n"
     ]
    }
   ],
   "source": [
    "# 对于输出结果y进行one hot预处理\n",
    "from keras.utils import to_categorical\n",
    "y_train_format = to_categorical(y_train)\n",
    "y_test_format = to_categorical(y_test)\n",
    "print(y_train[0])\n",
    "print(y_train_format[0])"
   ]
  },
  {
   "cell_type": "code",
   "execution_count": 19,
   "id": "3c562ff5",
   "metadata": {},
   "outputs": [
    {
     "name": "stdout",
     "output_type": "stream",
     "text": [
      "Model: \"sequential_2\"\n",
      "_________________________________________________________________\n",
      "Layer (type)                 Output Shape              Param #   \n",
      "=================================================================\n",
      "dense_4 (Dense)              (None, 392)               307720    \n",
      "_________________________________________________________________\n",
      "dense_5 (Dense)              (None, 196)               77028     \n",
      "_________________________________________________________________\n",
      "dense_6 (Dense)              (None, 10)                1970      \n",
      "=================================================================\n",
      "Total params: 386,718\n",
      "Trainable params: 386,718\n",
      "Non-trainable params: 0\n",
      "_________________________________________________________________\n"
     ]
    }
   ],
   "source": [
    "# 模型建立\n",
    "from keras.models import Sequential\n",
    "from keras.layers import Dense,Activation\n",
    "mlp = Sequential()\n",
    "mlp.add(Dense(units=392,input_dim=784,activation='relu'))\n",
    "mlp.add(Dense(units=196,activation='relu'))\n",
    "mlp.add(Dense(units=10,activation='softmax'))\n",
    "mlp.summary()"
   ]
  },
  {
   "cell_type": "code",
   "execution_count": 21,
   "id": "ea263caf",
   "metadata": {},
   "outputs": [
    {
     "name": "stdout",
     "output_type": "stream",
     "text": [
      "Epoch 1/10\n",
      "60000/60000 [==============================] - 10s 167us/step - loss: 0.4692 - categorical_accuracy: 0.8313\n",
      "Epoch 2/10\n",
      "60000/60000 [==============================] - 13s 222us/step - loss: 0.3560 - categorical_accuracy: 0.8702\n",
      "Epoch 3/10\n",
      "60000/60000 [==============================] - 14s 229us/step - loss: 0.3234 - categorical_accuracy: 0.8799\n",
      "Epoch 4/10\n",
      "60000/60000 [==============================] - 13s 220us/step - loss: 0.2976 - categorical_accuracy: 0.8885\n",
      "Epoch 5/10\n",
      "60000/60000 [==============================] - 14s 225us/step - loss: 0.2816 - categorical_accuracy: 0.8940\n",
      "Epoch 6/10\n",
      "60000/60000 [==============================] - 13s 222us/step - loss: 0.2663 - categorical_accuracy: 0.8991\n",
      "Epoch 7/10\n",
      "60000/60000 [==============================] - 13s 222us/step - loss: 0.2542 - categorical_accuracy: 0.9036\n",
      "Epoch 8/10\n",
      "60000/60000 [==============================] - 15s 242us/step - loss: 0.2418 - categorical_accuracy: 0.9086\n",
      "Epoch 9/10\n",
      "60000/60000 [==============================] - 14s 226us/step - loss: 0.2303 - categorical_accuracy: 0.9123\n",
      "Epoch 10/10\n",
      "60000/60000 [==============================] - 13s 222us/step - loss: 0.2219 - categorical_accuracy: 0.9159\n"
     ]
    },
    {
     "data": {
      "text/plain": [
       "<keras.callbacks.callbacks.History at 0x29d8af5ff60>"
      ]
     },
     "execution_count": 21,
     "metadata": {},
     "output_type": "execute_result"
    }
   ],
   "source": [
    "# 模型参数确立\n",
    "mlp.compile(optimizer='adam',loss='categorical_crossentropy',metrics=['categorical_accuracy']) # metics同时显示精确度\n",
    "# 模型训练\n",
    "mlp.fit(X_train_normal,y_train_format,epochs=10)"
   ]
  },
  {
   "cell_type": "code",
   "execution_count": 26,
   "id": "65af8917",
   "metadata": {},
   "outputs": [
    {
     "name": "stdout",
     "output_type": "stream",
     "text": [
      "[9 0 0 ... 3 0 5]\n"
     ]
    }
   ],
   "source": [
    "# 结果预测\n",
    "y_train_predict = mlp.predict_classes(X_train_normal)\n",
    "y_test_predict = mlp.predict_classes(X_test_normal)\n",
    "print(y_train_predict)"
   ]
  },
  {
   "cell_type": "code",
   "execution_count": 27,
   "id": "30f8e8b4",
   "metadata": {},
   "outputs": [
    {
     "name": "stdout",
     "output_type": "stream",
     "text": [
      "0.9253333333333333\n",
      "0.8898\n"
     ]
    }
   ],
   "source": [
    "# 模型表现评估\n",
    "from sklearn.metrics import accuracy_score\n",
    "accurancy_train = accuracy_score(y_train,y_train_predict)\n",
    "accurancy_test = accuracy_score(y_test,y_test_predict)\n",
    "print(accurancy_train)\n",
    "print(accurancy_test)"
   ]
  },
  {
   "cell_type": "code",
   "execution_count": 28,
   "id": "4735b4ec",
   "metadata": {},
   "outputs": [
    {
     "name": "stdout",
     "output_type": "stream",
     "text": [
      "{0: 'T shirt', 1: '裤子', 2: '套头衫', 3: '裙子', 4: '外套 ', 5: '凉鞋', 6: '衬衫', 7: '运动鞋', 8: '包 ', 9: '踝靴'}\n"
     ]
    }
   ],
   "source": [
    "# 创建结果标签字典\n",
    "label_dic={0:'T shirt',1:'裤子',2:'套头衫',3:'裙子',4:'外套 ',5:'凉鞋',6:'衬衫',7:'运动鞋',8:'包 ',9:'踝靴'}\n",
    "print(label_dic)"
   ]
  },
  {
   "cell_type": "code",
   "execution_count": 33,
   "id": "9beb706b",
   "metadata": {},
   "outputs": [
    {
     "data": {
      "text/plain": [
       "Text(0.5, 1.0, '包 ')"
      ]
     },
     "execution_count": 33,
     "metadata": {},
     "output_type": "execute_result"
    },
    {
     "data": {
      "image/png": "[encoded data removed]",
      "text/plain": [
       "<Figure size 216x216 with 1 Axes>"
      ]
     },
     "metadata": {
      "needs_background": "light"
     },
     "output_type": "display_data"
    }
   ],
   "source": [
    "# 对结果可视化\n",
    "# 样本可视化\n",
    "img1 = X_train[100]\n",
    "fig1 = plt.figure(figsize=(3,3))\n",
    "plt.imshow(img1)\n",
    "plt.title(label_dic[y_train_predict[100]])"
   ]
  },
  {
   "cell_type": "code",
   "execution_count": 31,
   "id": "94804b0f",
   "metadata": {},
   "outputs": [
    {
     "data": {
      "text/plain": [
       "'包 '"
      ]
     },
     "execution_count": 31,
     "metadata": {},
     "output_type": "execute_result"
    }
   ],
   "source": [
    "label_dic[y_train_predict[100]]"
   ]
  },
  {
   "cell_type": "code",
   "execution_count": 48,
   "id": "8a8f26ff",
   "metadata": {},
   "outputs": [
    {
     "name": "stdout",
     "output_type": "stream",
     "text": [
      "[1, 2, 3, 4, 5, 6, 7, 8, 9]\n"
     ]
    },
    {
     "data": {
      "image/png": "[encoded data removed]",
      "text/plain": [
       "<Figure size 504x576 with 9 Axes>"
      ]
     },
     "metadata": {
      "needs_background": "light"
     },
     "output_type": "display_data"
    }
   ],
   "source": [
    "a = [i for i in range(1,10)]\n",
    "print(a)\n",
    "fig4 = plt.figure(figsize=(7,8))\n",
    "font2 = {'family':'SimHei'}# 显示中文字符\n",
    "for i in a:\n",
    "    plt.subplot(3,3,i)\n",
    "    plt.imshow(X_test[i])\n",
    "    plt.title('predict:{}'.format(label_dic[y_test_predict[i]]),font2)\n",
    "    "
   ]
  },
  {
   "cell_type": "code",
   "execution_count": null,
   "id": "5e611b0b",
   "metadata": {},
   "outputs": [],
   "source": []
  }
 ],
 "metadata": {
  "kernelspec": {
   "display_name": "Python 3 (ipykernel)",
   "language": "python",
   "name": "python3"
  },
  "language_info": {
   "codemirror_mode": {
    "name": "ipython",
    "version": 3
   },
   "file_extension": ".py",
   "mimetype": "text/x-python",
   "name": "python",
   "nbconvert_exporter": "python",
   "pygments_lexer": "ipython3",
   "version": "3.7.0"
  }
 },
 "nbformat": 4,
 "nbformat_minor": 5
}
